{
 "cells": [
  {
   "cell_type": "code",
   "execution_count": 1,
   "metadata": {},
   "outputs": [
    {
     "data": {
      "text/html": [
       "<style>.container { width:100% !important; }</style>"
      ],
      "text/plain": [
       "<IPython.core.display.HTML object>"
      ]
     },
     "metadata": {},
     "output_type": "display_data"
    }
   ],
   "source": [
    "from IPython.display import display, HTML\n",
    "display(HTML(\"<style>.container { width:100% !important; }</style>\"))"
   ]
  },
  {
   "cell_type": "code",
   "execution_count": 163,
   "metadata": {},
   "outputs": [
    {
     "name": "stdout",
     "output_type": "stream",
     "text": [
      "Requirement already satisfied: psycopg2 in c:\\programdata\\anaconda3\\lib\\site-packages (2.9.5)\n"
     ]
    }
   ],
   "source": [
    "!pip install psycopg2"
   ]
  },
  {
   "cell_type": "code",
   "execution_count": 182,
   "metadata": {},
   "outputs": [],
   "source": [
    "import pandas as pd\n",
    "import numpy as np\n",
    "import psycopg2\n",
    "from string import punctuation\n",
    "\n",
    "ch_mapping = set(punctuation.replace(\"_\",\"\"))\n",
    "\n",
    "py_sql_variable_mapping = {\n",
    "                            \"object\" : \"varchar\",\n",
    "                            \"float64\": \"float\",\n",
    "                            \"int64\" : \"bigint\",\n",
    "                            \"datetime64[ns]\" : \"date\"\n",
    "                          }\n",
    "\n",
    "delete_dict = dict()\n",
    "create_table_dict = dict()\n",
    "insert_dict = dict()\n",
    "\n",
    "tables= [\"calidad_aire\", \"dataset_viajes_sube\"]\n",
    "\n",
    "output_files_dict = {\n",
    "                        \"calidad_aire\" : \"processed_calidad-aire.csv\",\n",
    "                        \"dataset_viajes_sube\" : \"processed_dataset_viajes_sube.csv\"\n",
    "                    }"
   ]
  },
  {
   "cell_type": "markdown",
   "metadata": {},
   "source": [
    "# Proccessing air quality file"
   ]
  },
  {
   "cell_type": "code",
   "execution_count": 183,
   "metadata": {},
   "outputs": [],
   "source": [
    "sql_table_name = \"calidad-aire\"\n",
    "output_file_name = output_files_dict[\"calidad_aire\"]\n",
    "\n",
    "for ch in ch_mapping:\n",
    "    sql_table_name = sql_table_name.lower().replace(\" \", \"_\").replace(\"-\", \"_\").replace(\".\", \"_\").replace(ch, \"\")\n",
    "    \n",
    "air_dataframe = pd.read_csv(\"calidad-aire.csv\")"
   ]
  },
  {
   "cell_type": "code",
   "execution_count": 184,
   "metadata": {},
   "outputs": [],
   "source": [
    "columns_aux = list()\n",
    "for column in air_dataframe.columns:\n",
    "    for ch in ch_mapping:\n",
    "        column = column.lower().replace(\" \", \"_\").replace(ch, \"\")\n",
    "        \n",
    "    columns_aux.append(column)\n",
    "        \n",
    "air_dataframe.columns = columns_aux"
   ]
  },
  {
   "cell_type": "code",
   "execution_count": 185,
   "metadata": {},
   "outputs": [],
   "source": [
    "air_dataframe.fillna(-1, inplace = True)"
   ]
  },
  {
   "cell_type": "code",
   "execution_count": 186,
   "metadata": {},
   "outputs": [],
   "source": [
    "air_dataframe.replace(\"(?i)s/d\", -1, regex=True, inplace= True)"
   ]
  },
  {
   "cell_type": "code",
   "execution_count": 187,
   "metadata": {},
   "outputs": [],
   "source": [
    "air_dataframe.loc[air_dataframe[\"co_centenario\"].str.contains(\"<\", na = False)] = air_dataframe[\"co_centenario\"].replace(\"<\", \"\", inplace = True)\n",
    "air_dataframe.loc[air_dataframe[\"co_cordoba\"].str.contains(\"<\", na = False)] = air_dataframe[\"co_cordoba\"].replace(\"<\", \"\", inplace = True)\n",
    "air_dataframe.loc[air_dataframe[\"co_la_boca\"].str.contains(\"<\", na = False)] = air_dataframe[\"co_la_boca\"].replace(\"<\", \"\", inplace = True)\n",
    "air_dataframe.loc[air_dataframe[\"co_centenario\"].str.contains(\"#REF!\", na = False)] = air_dataframe[\"co_centenario\"].replace(\"#REF!\", -1, inplace = True)\n",
    "air_dataframe.loc[air_dataframe[\"co_cordoba\"].str.contains(\"#REF!\", na = False)] = air_dataframe[\"co_cordoba\"].replace(\"#REF!\", -1, inplace = True)\n",
    "air_dataframe.loc[air_dataframe[\"co_la_boca\"].str.contains(\"#REF!\", na = False)] = air_dataframe[\"co_la_boca\"].replace(\"#REF!\", -1, inplace = True)"
   ]
  },
  {
   "cell_type": "code",
   "execution_count": 188,
   "metadata": {},
   "outputs": [],
   "source": [
    "column_types = {\n",
    "                    \"co_centenario\" : np.float64,\n",
    "                    \"no2_centenario\" : np.float64,\n",
    "                    \"pm10_centenario\" : np.float64,\n",
    "                    \"co_cordoba\" : np.float64,\n",
    "                    \"no2_cordoba\" : np.float64,\n",
    "                    \"pm10_cordoba\" : np.float64,\n",
    "                    \"co_la_boca\" : np.float64,\n",
    "                    \"no2_la_boca\" : np.float64,\n",
    "                    \"pm10_la_boca\" : np.float64,\n",
    "                    \"co_palermo\" : np.float64,\n",
    "                    \"no2_palermo\" : np.float64\n",
    "               }\n",
    "\n",
    "air_dataframe = air_dataframe.astype(column_types, copy = False)\n",
    "air_dataframe[\"fecha\"] = pd.to_datetime(air_dataframe[\"fecha\"].str[:-9], dayfirst = True, format = \"%d%b%Y\")"
   ]
  },
  {
   "cell_type": "code",
   "execution_count": 190,
   "metadata": {},
   "outputs": [],
   "source": [
    "air_dataframe.to_csv(output_file_name, sep = \";\", header = air_dataframe.columns, index = False, encoding = \"utf-8\")"
   ]
  },
  {
   "cell_type": "code",
   "execution_count": 191,
   "metadata": {},
   "outputs": [],
   "source": [
    "sql_column_creation_str = \", \".join( f\"{x} {str(v)}\" for x, v in air_dataframe.dtypes.replace(py_sql_variable_mapping).to_dict().items())"
   ]
  },
  {
   "cell_type": "code",
   "execution_count": 192,
   "metadata": {},
   "outputs": [],
   "source": [
    "delete_dict[\"calidad_aire\"] = f\"DROP TABLE IF EXISTS {sql_table_name}\"\n",
    "create_table_dict[\"calidad_aire\"] = f\"CREATE TABLE {sql_table_name} ({sql_column_creation_str});\"\n",
    "insert_dict[\"calidad_aire\"] = f\"COPY {sql_table_name} FROM STDIN WITH CSV HEADER DELIMITER AS ';'\""
   ]
  },
  {
   "cell_type": "markdown",
   "metadata": {},
   "source": [
    "# Proccessing trips file"
   ]
  },
  {
   "cell_type": "code",
   "execution_count": 193,
   "metadata": {},
   "outputs": [],
   "source": [
    "sql_table_name = \"dataset_viajes_sube\"\n",
    "output_file_name = output_files_dict[\"dataset_viajes_sube\"]\n",
    "\n",
    "for ch in ch_mapping:\n",
    "    sql_table_name = sql_table_name.lower().replace(\" \", \"_\").replace(\"-\", \"_\").replace(\".\", \"_\").replace(ch, \"\")\n",
    "    \n",
    "trips_dataframe = pd.read_csv(\"dataset_viajes_sube.csv\")"
   ]
  },
  {
   "cell_type": "code",
   "execution_count": 194,
   "metadata": {},
   "outputs": [],
   "source": [
    "columns_aux = list()\n",
    "for column in trips_dataframe.columns:\n",
    "    for ch in ch_mapping:\n",
    "        column = column.lower().replace(\" \", \"_\").replace(ch, \"\")\n",
    "        \n",
    "    columns_aux.append(column)\n",
    "        \n",
    "trips_dataframe.columns = columns_aux"
   ]
  },
  {
   "cell_type": "code",
   "execution_count": 195,
   "metadata": {},
   "outputs": [],
   "source": [
    "trips_dataframe = trips_dataframe[trips_dataframe[\"cantidad\"].notna()]\n",
    "trips_dataframe[\"dia\"] = pd.to_datetime(trips_dataframe[\"dia\"].str[:-9], dayfirst = True, format = \"%d%b%Y\")"
   ]
  },
  {
   "cell_type": "code",
   "execution_count": 196,
   "metadata": {},
   "outputs": [],
   "source": [
    "trips_dataframe.to_csv(output_file_name, sep = \";\", header = trips_dataframe.columns, index = False, encoding = \"utf-8\")"
   ]
  },
  {
   "cell_type": "code",
   "execution_count": 197,
   "metadata": {},
   "outputs": [],
   "source": [
    "sql_column_creation_str = \", \".join( f\"{x} {str(v)}\" for x, v in trips_dataframe.dtypes.replace(py_sql_variable_mapping).to_dict().items())"
   ]
  },
  {
   "cell_type": "code",
   "execution_count": 198,
   "metadata": {},
   "outputs": [],
   "source": [
    "delete_dict[\"dataset_viajes_sube\"] = f\"DROP TABLE IF EXISTS {sql_table_name}\"\n",
    "create_table_dict[\"dataset_viajes_sube\"] = f\"CREATE TABLE {sql_table_name} ({sql_column_creation_str});\"\n",
    "insert_dict[\"dataset_viajes_sube\"] = f\"COPY {sql_table_name} FROM STDIN WITH CSV HEADER DELIMITER AS ';'\""
   ]
  },
  {
   "cell_type": "markdown",
   "metadata": {},
   "source": [
    "# Connection to postgreSQL"
   ]
  },
  {
   "cell_type": "code",
   "execution_count": 199,
   "metadata": {},
   "outputs": [
    {
     "name": "stdout",
     "output_type": "stream",
     "text": [
      "Connection was successful\n"
     ]
    }
   ],
   "source": [
    "conn = psycopg2.connect(\n",
    "    host=\"srubio-instance.cr6pizokfpvj.sa-east-1.rds.amazonaws.com\",\n",
    "    database=\"scvChallenge\",\n",
    "    user=\"\",\n",
    "    password=\"\")\n",
    "\n",
    "cur = conn.cursor()\n",
    "\n",
    "print(\"Connection was successful\")"
   ]
  },
  {
   "cell_type": "code",
   "execution_count": 203,
   "metadata": {},
   "outputs": [
    {
     "name": "stdout",
     "output_type": "stream",
     "text": [
      "calidad_aire\n",
      "calidad_aire deleted\n",
      "calidad_aire created\n",
      "calidad_aire loaded\n",
      "Transactions commited\n",
      "file closed\n",
      "dataset_viajes_sube\n",
      "dataset_viajes_sube deleted\n",
      "dataset_viajes_sube created\n",
      "dataset_viajes_sube loaded\n",
      "Transactions commited\n",
      "file closed\n"
     ]
    }
   ],
   "source": [
    "for table in tables:\n",
    "    print(table)\n",
    "    my_file = open(output_files_dict[table])\n",
    "    cur.execute(delete_dict[table])\n",
    "    print(f\"{table} deleted\")\n",
    "    cur.execute(create_table_dict[table])\n",
    "    print(f\"{table} created\")\n",
    "    cur.copy_expert(sql = insert_dict[table], file = my_file)\n",
    "    print(f\"{table} loaded\")\n",
    "    conn.commit()\n",
    "    print(\"Transactions commited\")\n",
    "    my_file.close()\n",
    "    print(\"file closed\")\n",
    "    \n",
    "cur.close()"
   ]
  },
  {
   "cell_type": "code",
   "execution_count": 204,
   "metadata": {},
   "outputs": [],
   "source": [
    "conn.close()"
   ]
  }
 ],
 "metadata": {
  "kernelspec": {
   "display_name": "Python 3",
   "language": "python",
   "name": "python3"
  },
  "language_info": {
   "codemirror_mode": {
    "name": "ipython",
    "version": 3
   },
   "file_extension": ".py",
   "mimetype": "text/x-python",
   "name": "python",
   "nbconvert_exporter": "python",
   "pygments_lexer": "ipython3",
   "version": "3.8.3"
  }
 },
 "nbformat": 4,
 "nbformat_minor": 4
}
